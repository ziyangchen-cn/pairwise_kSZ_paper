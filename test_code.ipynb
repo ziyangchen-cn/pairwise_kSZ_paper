{
 "cells": [
  {
   "cell_type": "code",
   "execution_count": 72,
   "metadata": {},
   "outputs": [],
   "source": [
    "import matplotlib.pyplot as plt\n",
    "import numpy as np\n",
    "from theory_template import *"
   ]
  },
  {
   "cell_type": "code",
   "execution_count": 73,
   "metadata": {},
   "outputs": [],
   "source": [
    "filename = \"Equation_M_A_DR8_NGC_217_N_ap30_a1_dd20_Njk100.npz\"\n",
    "f = np.load(filename)\n",
    "f.__dict__\n",
    "Equation_M = f[\"Equation_M\"]\n",
    "Equation_A = f[\"Equation_A\"]\n",
    "delta_redshift = f[\"delta_redshift\"]\n"
   ]
  },
  {
   "cell_type": "code",
   "execution_count": 74,
   "metadata": {},
   "outputs": [],
   "source": [
    "def solve_pairwise_signal(Equation_M, Equation_A, rows):\n",
    "    signal = np.zeros((len(rows), Equation_M.shape[2], Equation_M.shape[3]))\n",
    "    for i in range(Equation_M.shape[3]):  # N_jk\n",
    "        for j in range(Equation_M.shape[2]): #n_rbin\n",
    "            M = Equation_M[:,:,j,i]  + Equation_M[:,:,j,i] .T - np.diag(np.diag(Equation_M[:,:,j,i]))\n",
    "            M = M[np.ix_(rows, rows)]\n",
    "            A = Equation_A[rows, j, i]\n",
    "            \n",
    "            signal[:, j, i] = np.linalg.solve(M, A)\n",
    "    return signal\n"
   ]
  },
  {
   "cell_type": "code",
   "execution_count": 89,
   "metadata": {},
   "outputs": [],
   "source": [
    "class pairwise_signal:\n",
    "    def __init__(self, Equation_M, Equation_A, r, z_mean, bias_mean, model):\n",
    "        self.model = model\n",
    "        if model == \"1a\":\n",
    "             signal = solve_pairwise_signal(Equation_M, Equation_A, rows=[0, 3])\n",
    "             self.T_pkSZ = signal[0,:,:]\n",
    "             self.n0 = signal[1,:,:]\n",
    "\n",
    "             f=get_emulator_pairwise_velocity(r,zs=z_mean,bs=bias_mean)\n",
    "\n",
    "        \n",
    "        if model == \"1b\":\n",
    "             signal = solve_pairwise_signal(Equation_M, Equation_A, rows=[0, 2])\n",
    "             self.T_pkSZ = signal[0,:,:]\n",
    "             self.n1 = signal[1,:,:]\n",
    "\n",
    "        if model == \"1c\":\n",
    "             signal = solve_pairwise_signal(Equation_M, Equation_A, rows=[0, 1])\n",
    "             self.T_pkSZ = signal[0,:,:]\n",
    "             self.n2 = signal[1,:,:]\n"
   ]
  },
  {
   "cell_type": "code",
   "execution_count": 90,
   "metadata": {},
   "outputs": [],
   "source": [
    "model1a = pairwise_signal(Equation_M, Equation_A, model = \"1a\")\n",
    "model1b = pairwise_signal(Equation_M, Equation_A, model = \"1b\",)\n",
    "model1c = pairwise_signal(Equation_M, Equation_A, model = \"1c\",)\n",
    "\n"
   ]
  },
  {
   "cell_type": "code",
   "execution_count": 91,
   "metadata": {},
   "outputs": [
    {
     "data": {
      "text/plain": [
       "array([[ 0.03332594,  0.02460742,  0.02913657, ...,  0.05050544,\n",
       "         0.07172126,  0.02913821],\n",
       "       [-0.0266809 , -0.02572855, -0.03155579, ..., -0.03135941,\n",
       "        -0.04671051, -0.02921263],\n",
       "       [ 0.14609122,  0.15064849,  0.14831508, ...,  0.12678886,\n",
       "         0.13615146,  0.1400568 ],\n",
       "       ...,\n",
       "       [ 0.02991481,  0.02633539,  0.02190861, ...,  0.03093108,\n",
       "         0.03032193,  0.02545874],\n",
       "       [ 0.02713589,  0.01972904,  0.01828515, ...,  0.02950557,\n",
       "         0.02575962,  0.0226105 ],\n",
       "       [ 0.03040828,  0.03237249,  0.03509219, ...,  0.03767391,\n",
       "         0.03781797,  0.03385617]])"
      ]
     },
     "execution_count": 91,
     "metadata": {},
     "output_type": "execute_result"
    }
   ],
   "source": [
    "model1a.T_pkSZ"
   ]
  },
  {
   "cell_type": "code",
   "execution_count": 69,
   "metadata": {},
   "outputs": [
    {
     "name": "stdout",
     "output_type": "stream",
     "text": [
      "[6937.95905736 3165.25611296 1148.43046842  392.88785315  317.05655826\n",
      "  169.12490866   84.9906701    73.59813832   54.3737925    38.82163337\n",
      "   26.94325688   16.71768315   14.07027572   11.80813736   13.50663284]\n",
      "[-0.01219345  0.1240998   0.1595843   0.12807816  0.12738889  0.07292068\n",
      "  0.04085353  0.04011512  0.05452662  0.0330894   0.03136763  0.02288005\n",
      "  0.01386437  0.00522634  0.01953312]\n"
     ]
    },
    {
     "data": {
      "image/png": "[encoded data removed]",
      "text/plain": [
       "<Figure size 640x480 with 1 Axes>"
      ]
     },
     "metadata": {},
     "output_type": "display_data"
    }
   ],
   "source": [
    "signal = solve_pairwise_signal(Equation_M, Equation_A, rows=[0,1])\n",
    "plt.plot(np.mean(signal[1,:,:], axis=1), alpha=0.3)\n",
    "print(np.mean(signal[1,:,:], axis=1))\n",
    "signal = solve_pairwise_signal(Equation_M, Equation_A, rows=[0,3])\n",
    "plt.plot(np.mean(signal[1,:,:], axis=1), alpha=0.3)\n",
    "print(np.mean(signal[1,:,:], axis=1))\n",
    "plt.yscale(\"log\")"
   ]
  },
  {
   "cell_type": "code",
   "execution_count": null,
   "metadata": {},
   "outputs": [],
   "source": []
  }
 ],
 "metadata": {
  "kernelspec": {
   "display_name": "Python 3",
   "language": "python",
   "name": "python3"
  },
  "language_info": {
   "codemirror_mode": {
    "name": "ipython",
    "version": 3
   },
   "file_extension": ".py",
   "mimetype": "text/x-python",
   "name": "python",
   "nbconvert_exporter": "python",
   "pygments_lexer": "ipython3",
   "version": "3.10.12"
  },
  "orig_nbformat": 4
 },
 "nbformat": 4,
 "nbformat_minor": 2
}
